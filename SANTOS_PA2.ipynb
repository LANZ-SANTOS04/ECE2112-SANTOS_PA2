{
 "cells": [
  {
   "cell_type": "code",
   "execution_count": 2,
   "id": "32b02ece-2da9-48b1-b50f-228ce6b19d16",
   "metadata": {},
   "outputs": [],
   "source": [
    "import numpy as np"
   ]
  },
  {
   "cell_type": "markdown",
   "id": "58b40900-ca48-4a97-b0f9-9fcc8adf4365",
   "metadata": {},
   "source": [
    "**NORMALIZATION PROBLEM:** create a random 5 x 5 ndarray and store it to variable X. Normalize X. Save your normalized\n",
    "ndarray as X_normalized.npy"
   ]
  },
  {
   "cell_type": "code",
   "execution_count": 8,
   "id": "2d3e5fc9-9e1b-4125-a9b3-e3ce640e8d04",
   "metadata": {},
   "outputs": [
    {
     "name": "stdout",
     "output_type": "stream",
     "text": [
      "Original X:\n",
      " [[0.55990655 0.79815786 0.16930093 0.23565309 0.00432324]\n",
      " [0.31278359 0.72856666 0.14432395 0.54711535 0.62752715]\n",
      " [0.50547108 0.31491318 0.74408737 0.72538186 0.43248423]\n",
      " [0.25904355 0.97771564 0.58627315 0.70143114 0.431165  ]\n",
      " [0.67036215 0.66852519 0.68957223 0.95218642 0.87727439]]\n",
      "\n",
      "Mean: 0.5465417989708513 Std Dev: 0.25487020345776323\n",
      "\n",
      "Normalized X:\n",
      " [[ 0.05243747  0.98723216 -1.48012935 -1.21979227 -2.12743016]\n",
      " [-0.9171657   0.71418651 -1.57812816  0.00225036  0.31775134]\n",
      " [-0.16114367 -0.90881013  0.77508302  0.70169075 -0.44751237]\n",
      " [-1.12801827  1.69173893  0.15588859  0.60771853 -0.45268845]\n",
      " [ 0.4858173   0.47860986  0.56118932  1.59157332  1.29765107]]\n"
     ]
    }
   ],
   "source": [
    "# Create a random 5x5 ndarray\n",
    "X = np.random.rand(5, 5)  # values between 0 and 1\n",
    "\n",
    "# Compute mean and standard deviation\n",
    "mean = X.mean()\n",
    "std = X.std()\n",
    "\n",
    "# Normalize using formula Z = (X - mean) / std\n",
    "X_normalized = (X - mean) / std\n",
    "\n",
    "# Save the normalized array as 'X_normalized.npy'\n",
    "np.save(\"X_normalized.npy\", X_normalized)\n",
    "\n",
    "# Print to check\n",
    "print(\"Original X:\\n\", X)\n",
    "print(\"\\nMean:\", mean, \"Std Dev:\", std)\n",
    "print(\"\\nNormalized X:\\n\", X_normalized)"
   ]
  },
  {
   "cell_type": "markdown",
   "id": "6944e467-c216-4f52-8955-109b8b3320c5",
   "metadata": {},
   "source": [
    "**DIVISIBLE BY 3 PROBLEM:** create a 10x10 ndarray with the squares of the first 100 integers and then print the numbers that are divisible by 3"
   ]
  },
  {
   "cell_type": "code",
   "execution_count": 6,
   "id": "e94ca85e-215e-4fa9-b620-196243e3dd73",
   "metadata": {},
   "outputs": [
    {
     "name": "stdout",
     "output_type": "stream",
     "text": [
      "10x10 Array A:\n",
      " [[    1     4     9    16    25    36    49    64    81   100]\n",
      " [  121   144   169   196   225   256   289   324   361   400]\n",
      " [  441   484   529   576   625   676   729   784   841   900]\n",
      " [  961  1024  1089  1156  1225  1296  1369  1444  1521  1600]\n",
      " [ 1681  1764  1849  1936  2025  2116  2209  2304  2401  2500]\n",
      " [ 2601  2704  2809  2916  3025  3136  3249  3364  3481  3600]\n",
      " [ 3721  3844  3969  4096  4225  4356  4489  4624  4761  4900]\n",
      " [ 5041  5184  5329  5476  5625  5776  5929  6084  6241  6400]\n",
      " [ 6561  6724  6889  7056  7225  7396  7569  7744  7921  8100]\n",
      " [ 8281  8464  8649  8836  9025  9216  9409  9604  9801 10000]]\n",
      "\n",
      "Elements divisible by 3:\n",
      " [   9   36   81  144  225  324  441  576  729  900 1089 1296 1521 1764\n",
      " 2025 2304 2601 2916 3249 3600 3969 4356 4761 5184 5625 6084 6561 7056\n",
      " 7569 8100 8649 9216 9801]\n"
     ]
    }
   ],
   "source": [
    "# Generate squares of first 100 positive integers\n",
    "squares = np.arange(1, 101) ** 2   # from 1^2 to 100^2\n",
    "\n",
    "# Reshape into a 10x10 ndarray\n",
    "A = squares.reshape(10, 10)\n",
    "\n",
    "# Find elements divisible by 3\n",
    "div_by_3 = A[A % 3 == 0]\n",
    "\n",
    "# Save results\n",
    "np.save(\"div_by_3.npy\", div_by_3)\n",
    "\n",
    "# Print to check\n",
    "print(\"10x10 Array A:\\n\", A)\n",
    "print(\"\\nElements divisible by 3:\\n\", div_by_3)"
   ]
  }
 ],
 "metadata": {
  "kernelspec": {
   "display_name": "Python [conda env:base] *",
   "language": "python",
   "name": "conda-base-py"
  },
  "language_info": {
   "codemirror_mode": {
    "name": "ipython",
    "version": 3
   },
   "file_extension": ".py",
   "mimetype": "text/x-python",
   "name": "python",
   "nbconvert_exporter": "python",
   "pygments_lexer": "ipython3",
   "version": "3.13.5"
  }
 },
 "nbformat": 4,
 "nbformat_minor": 5
}
